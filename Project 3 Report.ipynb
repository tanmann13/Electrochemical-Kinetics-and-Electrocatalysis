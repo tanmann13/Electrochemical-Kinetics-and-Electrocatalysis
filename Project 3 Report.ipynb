{
 "cells": [
  {
   "cell_type": "markdown",
   "id": "feadd8fb-3a6a-4476-bbb6-260f6d6caf55",
   "metadata": {
    "citation-manager": {
     "citations": {
      "0hq5c": [
       {
        "id": "7738305/NKBKB4K6",
        "source": "zotero"
       }
      ],
      "0tisc": [
       {
        "id": "7738305/FJXNNLJZ",
        "source": "zotero"
       }
      ],
      "8rp3d": [
       {
        "id": "7738305/JQ85JZ3M",
        "source": "zotero"
       }
      ],
      "8u5ac": [
       {
        "id": "7738305/2WSTQX2W",
        "source": "zotero"
       }
      ],
      "b0jj9": [
       {
        "id": "7738305/WB238N6A",
        "source": "zotero"
       }
      ],
      "gmboc": [
       {
        "id": "7738305/36S6EZDF",
        "source": "zotero"
       }
      ],
      "o828n": [
       {
        "id": "7738305/ZA3KF2R3",
        "source": "zotero"
       }
      ],
      "vwe6l": [
       {
        "id": "7738305/23QJR3YX",
        "source": "zotero"
       }
      ],
      "yfmty": [
       {
        "id": "7738305/UAWXUCDV",
        "source": "zotero"
       }
      ]
     }
    },
    "tags": []
   },
   "source": [
    "# Project 3: Electrochemical Kinetics and Electrocatalysis\n",
    "### Tanner Leo, University of Oregon, Electrochemistry Lab, November 9<sup>th</sup>\n",
    "\n",
    "## Introduction\n",
    "Both thermodynamics and kinetics play important roles in determining rates and potentials required to induce electron transfer reaction. Many of the reactions that have practical use to electrochemical engineers pursuing improved clean energy technologies, entail multi-step electron-transfer processes. For example, electrochemical water splitting involves a four-electron transfer for the anodic oxidation reaction and a two-electron transfer process for the cathodic reduction reaction.<cite id=\"vwe6l\"><a href=\"#zotero%7C7738305%2F23QJR3YX\"><sup>1</sup></a></cite> This makes the kinetics for the electrochemical reaction slow, requiring large overpotentials before the activation barrier for the reaction is overcome. While the thermodynamic description of water splitting suggests potentials of 1.23 V vs NHE will drive the reaction, a potential of 1.8 V vs NHE is often required.<cite id=\"0tisc\"><a href=\"#zotero%7C7738305%2FFJXNNLJZ\"><sup>2</sup></a></cite>\n",
    "\n",
    "Water splitting consists of two half reactions occurring at the cathode and anode: the production of H<sub>2</sub> at the cathode, also known as hydrogen evolution reaction (HER), and the production of O<sub>2</sub> at the anode, also known as oxygen evolution reaction (OER). Depending on the medium, the equilibrium potential for the reaction, E<sub>eq</sub> is subject to change. In an acid medium with H<sup>+</sup> at unit activity, the half reactions are given by equations 1 & 2 below. \n",
    "\n",
    "\\begin{equation}\n",
    "2H^+ + 2e^- \\leftrightarrows H_2\n",
    ",\\ E^0 =\\text{  0 V vs SHE}\n",
    "\\tag{1}\n",
    "\\end{equation}\n",
    "\n",
    "\\begin{equation}\n",
    "2H_2O \\leftrightarrows O_2 + 4H^+ + 4e^-\n",
    ",\\ E^0 =\\text{  1.23 V vs SHE}\n",
    "\\tag{2}\n",
    "\\end{equation}\n",
    "\n",
    "However, in a basic medium with OH<sup>-</sup> at unit activity, the two half reactions are given by equations 3 and 4 below. \n",
    "\n",
    "\\begin{equation}\n",
    "2H_2O + 2e \\leftrightarrows H_2 + 2OH^-\n",
    ",\\ E^0 =\\text{  -0.83 V vs SHE}\n",
    "\\tag{3}\n",
    "\\end{equation}\n",
    "\n",
    "\\begin{equation}\n",
    "2H_2O \\leftrightarrows 2H_2 + O_2\n",
    ",\\ E^0 =\\text{  0.4 V vs SHE}\n",
    "\\tag{4}\n",
    "\\end{equation}\n",
    "\n",
    "Therefore, depending on the half reaction of interest, the pH of the electrolyte is of great importance to the potentials required to drive either half reaction. \n",
    "\n",
    "Kinetics play a vitally important role in electrochemical reactions. \n",
    "(talk about the butler volmer equation, tafel plots, etc).\n",
    "\n",
    "The efficiency of HER and OER are highly dependent upon the active catalyst or electrode driving the reaction. Pt is one of most widely used and most efficient catalysts for driving HER. Platinum black was used more frequently as a catalyst in the 1950s and 1960s for both acid and alkaline fuel cells, due to it's high surface area, although since then platinum metal dispersed on a carbon support (Pt/C) has been the more popular choice due to improvements in efficiency.<cite id=\"yfmty\"><a href=\"#zotero%7C7738305%2FUAWXUCDV\"><sup>3</sup></a></cite> Cu has been studied as an electrocatalyst for HER, with results showing relatively poor catalytic performance compared to the alternatives, however there is ongoing research on how it's catalytic efficiency may be improved.<cite id=\"0hq5c\"><a href=\"#zotero%7C7738305%2FNKBKB4K6\"><sup>4</sup></a></cite>\n",
    "\n",
    "Two of the most efficient transition state metal OER catalysts are Ni and Co.<cite id=\"gmboc\"><a href=\"#zotero%7C7738305%2F36S6EZDF\"><sup>5</sup></a></cite> There have been many reports in the literature of Fe doping of Ni(OH)<sub>2</sub> having dramatic effects on the efficiency of OER.<cite id=\"8rp3d\"><a href=\"#zotero%7C7738305%2FJQ85JZ3M\"><sup>6</sup></a></cite><sup>,</sup><cite id=\"b0jj9\"><a href=\"#zotero%7C7738305%2FWB238N6A\"><sup>7</sup></a></cite><sup>,</sup><cite id=\"8u5ac\"><a href=\"#zotero%7C7738305%2F2WSTQX2W\"><sup>8</sup></a></cite> Fe-doped can be electrodeposited from a solution of Ni(NO<sub>3</sub>)<sub>2</sub> and FeCl<sub>2</sub>, following the chemical reactions shown in equations 5 and 6 below.\n",
    "\n",
    "\\begin{equation}\n",
    "NO_3^- + 7H_2O + 8e^- \\rightarrow NH_4^+ + 10 {OH}^-\n",
    "\\tag{5}\n",
    "\\end{equation}\n",
    "\n",
    "\\begin{equation}\n",
    "M^{n+} + nOH^- \\rightarrow M(OH)_n\n",
    "\\tag{6}\n",
    "\\end{equation}\n",
    "\n",
    "Where M is either Fe or Ni, and n is the oxidation state (2+ for these metals). When FeCl<sub>2</sub> is in a far lower concentration than Ni(NO<sub>3</sub>)<sub>2</sub>, it serves as a dopant, periodically replacing lattice sites where Ni would normally reside.<cite id=\"o828n\"><a href=\"#zotero%7C7738305%2FZA3KF2R3\"><sup>9</sup></a></cite>"
   ]
  },
  {
   "cell_type": "markdown",
   "id": "896ffb98-160b-4239-b5a2-3eac25d5f162",
   "metadata": {
    "citation-manager": {
     "citations": {
      "bzkgo": [
       {
        "id": "7738305/Q9S7B3PQ",
        "source": "zotero"
       }
      ],
      "xgr5c": [
       {
        "id": "7738305/ZA3KF2R3",
        "source": "zotero"
       }
      ]
     }
    },
    "tags": []
   },
   "source": [
    "## 2 Experimental\n",
    "### 2.1 Electrocatalysis for HER\n",
    "Three different working electrodes were used for the HER experiment. A copper electrode was prepared by sealing a thin piece of copper wire in a 6 mm borosilicate glass tube. Hot glue was used to seal the end of the tube and prevent leaking. A Pt electrode was using before and after being coated with platinum black (PtCl<sub>6</sub>). The platinum black coating was applied using a solution containing 10 mL of DI H<sub>2</sub>O, 100 mg of H<sub>2</sub>PtCl<sub>6</sub>, and 2 mg of PbNO<sub>3</sub>. A potential bias of -2.0 V was applied for 3 minutes to the Pt working electrode in a two electrode cell, with a separate platinum counter electrode. The Pt-black electrode was then rinsed with DI water and dried with N<sub>2</sub>. \n",
    "\n",
    "The experiments were conducted in a three-neck flask using 1.0 M H<sub>2</sub>SO<sub>4</sub> as the electrolyte. A poly(tetrafluoroethylene) (PTFE) stir bar was used to ensure H<sub>2</sub> bubbles were quickly removed from the surface of the working electrode. The electrolyte was purged with N<sub>2</sub> for 10 minutes prior to any experiments. An Ag/AgCl reference electrode was used, in addition to a Pt counter electrode. To clean the Pt working electrode, a current bias of &pm;5 mA was applied to the working electrode, alternating every 1 s.\n",
    "\n",
    "The first set of experiments utilized the clean Pt working electrode. A CV experiment was conducted at three different scan rates between 20 and 200 mV/s without stirring. The potential was swept between -0.2 V vs Ag/AgCl and 1.0 V vs Ag/AgCl. The area of the H<sub>I</sub> and H<sub>II</sub> adsorption peaks were integrated to determine the microscopic surface area of the Pt working electrode. This procedure was replicated with the Pt-black working electrode as well.\n",
    "\n",
    "The solution resistance, $R_s$ was obtained using an electrical impedance spectroscopy experimental technique (EIS). The mean potential was set to 0 V vs Ag/AgCl, and the frequency was swept from 1 MHz to 100 Hz. The solution resistance was taken as the first intercept with the x-axis of the Nyquist plot(the real impedance axis).<cite id=\"bzkgo\"><a href=\"#zotero%7C7738305%2FQ9S7B3PQ\"><sup>10</sup></a></cite>\n",
    "\n",
    "The HER kinetics were measured with CV experiments. The potential was swept between -0.5 V and 0.5 V vs Ag/AgCl at a scan rate of 10 mV/s, while the stir bar was rotating at it's fastest available rotation rate. The collected CV curves were corrected for ohmic losses, where $ E = E_{measured} - iR_s$. This experiment was performed on the Pt-black and copper working electrodes in an identical manner. Tafel analysis was conducted to determine the exchange current density.\n",
    "\n",
    "### 2.2 Electrocatalysis for OER\n",
    "\n",
    "A pre-constructed working electrode for the OER experiments was prepared by electrodeposition of an Fe-NiOOH catalyst layer. The working electrode itself consisted of a glass slide that had been plated with 25 nm of Ti, and 75 nm of Au through a thermal evaporation process. This glass slide was then electrically wired to a lead connecting to the potentiostat. The edges of the slide and metal layers were encapsulated with hot glue and attached to a glass tube, also covered in hot glue to prevent any incompatibilities with the highly basic electrolyte. The full procedure for constructing the working electrode is detailed by Stevens et. al.<cite id=\"xgr5c\"><a href=\"#zotero%7C7738305%2FZA3KF2R3\"><sup>9</sup></a></cite> The microscopic surface area of this working electrode was provided. \n",
    "\n",
    "The catalyst film was electrodeposited onto the working electrode by applying a current bias of 1 mA/cm<sup>2</sup> for 10 s in a two-electrode cell with a silver wire as a counter electrode. The cell electrolyte contained 0.10 M Ni(NO<sub>3</sub>)<sub>2</sub> and 0.003 M FeCl<sub>2</sub>.\n",
    "\n",
    "A Nalgene<sup>TM</sup> polymer jar-cell filled with 1.0 M KOH was used for the OER experiments. An Ag/AgCl reference electrode was used, with a Pt wire serving as the counter electrode. An EIS experiment was performed to determine the solution resistance as described above for the HER kinetics experiments.\n",
    "\n",
    "The OER kinetics were characterized using CV experiments. The potential was swept between -0.1 V and 0.7 V vs Ag/AgCl, at scan rates of 20 and 50 mV/s. The number of electrochemically active catalyst sites was measured by integrating the cathodic Ni redox wave. The collected CVs were corrected for ohmic losses in manner similar to that described above for the HER kinetics experiments.\n"
   ]
  },
  {
   "cell_type": "markdown",
   "id": "2ea44ef6-9ecd-46d5-9a22-09d279b914a8",
   "metadata": {
    "tags": []
   },
   "source": [
    "## 3 Results\n",
    "### 3.1 HER"
   ]
  },
  {
   "cell_type": "markdown",
   "id": "9549730b-b57b-4313-beeb-a2da3e010ad0",
   "metadata": {
    "citation-manager": {
     "citations": {
      "5cfny": [
       {
        "id": "7738305/CJTXRAXC",
        "source": "zotero"
       }
      ],
      "9jct9": [
       {
        "id": "7738305/97TJZECE",
        "source": "zotero"
       }
      ],
      "d7hqv": [
       {
        "id": "7738305/V3P5JVKP",
        "source": "zotero"
       }
      ]
     }
    },
    "tags": []
   },
   "source": [
    "#### 3.1.1 Electrode Area Measurements\n",
    "The microscopic area of the Pt working electrode was measured, using cyclic voltammetry techniques. Figure 1 below displays the CV curve collected used for microscopic area calculations at 200 mV/s. The microscopic area can be determined by determining the total charge passed during the adsorption of H<sup>+</sup> onto the electrode surface.<cite id=\"5cfny\"><a href=\"#zotero%7C7738305%2FCJTXRAXC\"><sup>11</sup></a></cite> The peaks associated with the adsorption of H<sub>I</sub> and H<sub>II</sub> area labeled on the plot. H<sub>I</sub> adsorption occurs on the (110) lattice sites of Pt, while H<sub>II</sub> adsorption occurs on the (100) lattice sites.<cite id=\"d7hqv\"><a href=\"#zotero%7C7738305%2FV3P5JVKP\"><sup>12</sup></a></cite> The microscopic area was determined by integrating these peaks down to the baseline drawn by the double layer capacitance. This integration yielded a total charge of 0.0258 mC. The literature value for the charge associated with the hydrogen monolayer adsorption is 210 &mu;C/cm<sup>2</sup>.<cite id=\"9jct9\"><a href=\"#zotero%7C7738305%2F97TJZECE\"><sup>13</sup></a></cite> Using this value, the microscopic area of the Pt electrode was determined to be 0.123 cm<sup>2</sup>. This analysis was performed on identical curves collected at the scan rates of 100 and 20 mV/s, although only the results from the 200 mV/s scan were used. The microscopic area determined from each scan rate is given in Appendix A.\n",
    "\n",
    "<center>\n",
    "    <img src=\"./images/Figure001.png\" width=600px>\n",
    "    <br>\n",
    "    <i>\n",
    "        <b>Figure 1.</b> Cyclic voltammogram for the Pt working electrode in 1.0 M H<sub>2</sub>SO<sub>4</sub>. The hydrogen adsorption peaks are labeled above on the curve. The hydrogen adsorption peaks were integrated, neglecting the double layer capacitance charging current. The scan rate was 200 mV/s.\n",
    "    </i>\n",
    "</center>\n",
    "<br>\n",
    "The microscopic area of the Pt-black electrode was determined by integrating the hydrogen adsorption peaks from a cyclic voltammetry experiment, shown in figure 2. The measured charge for the peak was 0.119 mC, corresponding with an area of 0.565 cm<sup>2</sup>. \n",
    "\n",
    "<center>\n",
    "    <img src=\"./images/Figure004.png\" width=600px>\n",
    "    <br>\n",
    "    <i>\n",
    "        <b>Figure 2.</b> Cyclic voltammogram for the Pt-black working electrode in 1.0 M H<sub>2</sub>SO<sub>4</sub>. The hydrogen adsorption peaks are labeled above on the curve. The hydrogen adsorption peaks were integrated, neglecting the double layer capacitance charging current. The scan rate was 200 mV/s.\n",
    "    </i>\n",
    "</center>"
   ]
  },
  {
   "cell_type": "markdown",
   "id": "3838d515-adb7-4c76-a106-4469bbe1892b",
   "metadata": {
    "tags": []
   },
   "source": [
    "#### 3.1.2 Solution Resistance\n",
    "The solution resistance was measured by an EIS experiment, the results of which are shown in Figure 3 below.\n",
    "\n",
    "<center>\n",
    "    <img src=\"./images/Figure023.png\" width=600px>\n",
    "    <br>\n",
    "    <i>\n",
    "        <b>Figure 3.</b> Nyquist Spectrum of Pt electrode in 1.0 M H<sub>2</sub>SO<sub>4</sub>. Frequency was swept from 1 MHz to 100 Hz at 0 V overpotential.\n",
    "    </i>\n",
    "</center>\n",
    " "
   ]
  },
  {
   "cell_type": "markdown",
   "id": "1055f5f3-e253-4655-96bf-206a70bedc13",
   "metadata": {
    "tags": []
   },
   "source": [
    "#### 3.1.2 Tafel Analysis"
   ]
  },
  {
   "cell_type": "markdown",
   "id": "21dda9c2-09f5-41c8-a927-c07c232b6c0b",
   "metadata": {
    "citation-manager": {
     "citations": {
      "0m7tt": []
     }
    },
    "tags": []
   },
   "source": [
    "##### Pt Electrode\n",
    "HER kinetics were characterized for the Pt working electrode. The current-potential response was corrected for iR losses due to the solution resistance. The solution resistance was measured to be approximately 9.4 ohms. Figure 4 below displays the collected CV curve before and after iR correction. \n",
    "\n",
    "<center>\n",
    "    <img src=\"./images/Figure3.png\" width=600px>\n",
    "    <br>\n",
    "    <i>\n",
    "        <b>Figure 4.</b> Cyclic voltammogram for the Pt working electrode in 1.0 M H<sub>2</sub>SO<sub>4</sub>. The current-potential response is shown before and after iR correction.\n",
    "    </i>\n",
    "</center>\n",
    "<br>\n",
    "\n",
    "A Tafel plot is shown in Figure 5, where the log current density is plotted against overpotential. The overpotential was calculated as $\\eta = E - E_{eq}$, where $E_{eq}$ is taken as 0 V vs NHE. A linear regression was performed to extract the exchange current density and Tafel slope. A linear regression was performed over the entire range of data, yielding a Tafel slope of 85 mV/dec. Due to reports in literature regarding the potential dependence of the Tafel slope for HER,<cite id=\"0m7tt\"><a href=\"#zotero%7C7738305%2FNCFT5K9A\"><sup>15</sup></a></cite> a second Tafel slope of 47 mV/dec was measured at overpotentials between -100 mV and 0 mV, and a third Tafel slope was measured as 166 mV/dec at overpotentials less than -100 mV. The exchange current density was measured as 1.87 mA/cm<sup>2</sup>, corresponding with the Tafel slope of 85 mV/dec. For the Tafel slopes of 166 mV/dec and 47 mV/dec, the exchange current densities were 11.07 mA/cm<sup>2</sup> and 0.41 mA/cm<sup>2</sup>, respectively.\n",
    "\n",
    "<center>\n",
    "    <img src=\"./images/Figure4.png\" width=600px>\n",
    "    <br>\n",
    "    <i>\n",
    "        <b>Figure 5.</b> Plot of log current density vs overpotential from the Pt electrode CV HER kinetics experiment. Overpotential has been corrected for iR losses. The cell contained electrolyte of 1.0 M H<sub>2</sub>SO<sub>4</sub>, which was stirred vigorously. \n",
    "    </i>\n",
    "</center>\n",
    "\n"
   ]
  },
  {
   "cell_type": "markdown",
   "id": "ec11d153-3806-4eab-8567-fd354ab8b82e",
   "metadata": {
    "tags": [],
    "toc-hr-collapsed": true
   },
   "source": [
    "##### Pt-black electrode\n",
    "HER kinetics were characterized for the Pt-black working electrode. The current-potential response was corrected for ohmic losses resulting from the solution resistance. Figure 6 below displays the collected CV curve before and after iR correction. \n",
    "\n",
    "<center>\n",
    "    <img src=\"./images/Figure5.png\" width=600px>\n",
    "    <br>\n",
    "    <i>\n",
    "        <b>Figure 6.</b> Cyclic voltammogram for the Pt-black working electrode in 1.0 M H<sub>2</sub>SO<sub>4</sub>. The current-potential response is shown before and after iR correction.\n",
    "    </i>\n",
    "</center>\n",
    "<br>\n",
    "\n",
    "A Tafel plot for the HER kinetics measurements of the Pt-black electrode are shown below in Figure 7. The log of current density was plotted based on the experimentally determined area. The Tafel slope was measured across the entire range of overpotentials as 46 mV/dec, corresponding to an exchange current density of 0.1714 mA/cm<sup>2</sup>. The Tafel slope was also measured for overpotentials less than -100 mV, which was found to be 130 mV/dec, and overpotentials greater than -100 mV, which was found to be 39 mV/dec. The exchange current densities corresponding with the 130 mV/dec and 39 mV/dec Tafel slopes were 4.12 mA/cm<sup>2</sup> and 0.11 mA/cm<sup>2</sup>, respectively. \n",
    "\n",
    "\n",
    "\n",
    "\n",
    "<center>\n",
    "    <img src=\"./images/Figure6.png\" width=600px>\n",
    "    <br>\n",
    "    <i>\n",
    "        <b>Figure 7.</b> Plot of log current density vs overpotential from the Pt-black electrode CV HER kinetics experiment. Overpotential has been corrected for iR losses. The cell contained electrolyte of 1.0 M H<sub>2</sub>SO<sub>4</sub>, which was stirred vigorously.\n",
    "    </i>\n",
    "</center>\n",
    "\n"
   ]
  },
  {
   "cell_type": "markdown",
   "id": "af7a0430-5181-4b67-8a8a-ecb5d395dd62",
   "metadata": {
    "tags": []
   },
   "source": [
    "##### Cu Electrode\n",
    "HER kinetics were also characterized for the Cu wire electrode. Figure 8 below displays the results of the HER kinetics CV experiment. The corrected potential does not deviate significantly from the uncorrected potential due to the small current being passed. The area of the Cu electrode was taken as the geometric area, given the wire gauge as 24 AWG and exposed length of 1 cm. There was anodic current observed on the reverse scan, suggesting that some Cu electrodissolved into solution. This was after HER, however, and should not affect the results.  \n",
    "    \n",
    "<center>\n",
    "    <img src=\"./images/Figure002.png\" width=600px>\n",
    "    <br>\n",
    "    <i>\n",
    "        <b>Figure 8.</b> Plot of current vs potential for the HER using a Cu wire working electrode. The stirring was set to the maximum setting.\n",
    "    </i>\n",
    "</center>\n",
    "<br>\n",
    "Figure 9 below shows the Tafel plot of the HER kinetics for the Cu wire working electrode. The Tafel slope was measured as 339 mV/dec, and the exchange current was measured at 0.0666 mA/cm<sup>2</sup>. \n",
    "\n",
    "<center>\n",
    "    <img src=\"./images/Figure003.png\" width=600px>\n",
    "    <br>\n",
    "    <i>\n",
    "        <b>Figure 9.</b> Plot of log current vs overpotential  for the HER using a Cu wire working electrode. The stirring was set to the maximum setting. The data was fitted using a linear regression, which is overlaid on the plot.\n",
    "    </i>\n",
    "</center>"
   ]
  },
  {
   "cell_type": "markdown",
   "id": "ef2102af-a99f-4642-a81d-8ac87cc1ad3c",
   "metadata": {},
   "source": [
    "### 3.2 OER Kinetics"
   ]
  },
  {
   "cell_type": "markdown",
   "id": "6b62bd10-e0de-49a7-8f50-6512d908d6c7",
   "metadata": {},
   "source": [
    "#### 3.2.1 Electrical Impedance Spectroscopy\n",
    "The solution resistance of the 1.0 M KOH electrolyte was measured using an EIS technique. Figure 10 below displays the resulting spectrum used to determine the solution resistance.\n",
    "\n",
    "<center>\n",
    "    <img src=\"./images/Figure010.png\" width=600px>\n",
    "    <br>\n",
    "    <i>\n",
    "        <b>Figure 10.</b> Nyquist Spectrum of Ni oxide Au electrode in 1.0 M KOH. Frequency was swept from 1 MHz to 100 Hz at 0 V overpotential. \n",
    "    </i>\n",
    "</center>"
   ]
  },
  {
   "cell_type": "markdown",
   "id": "6916f6d5-4351-4bd9-8b1f-ac1c78671ba8",
   "metadata": {},
   "source": [
    "#### 2.3.2 Active Catalyst Sites\n",
    "\n",
    "The NiOOH/Ni(OH)<sub>2</sub> redox peaks were integrated to calculate the number of active Ni atoms per unit area. Figure 11 below shows a representative example of the redox peaks that were analyzed. Baselines were drawn for the oxidation and reduction waves. The oxidation wave peak was integrated using a polynomial baseline, and the reductive peak was integrated using a linear baseline. For the CV at 50 mV/s, the total charge associated with the oxidation peak was 0.3723 mC, and the charge associated with the reduction peak was 0.2725 mC. For the CV at 20 mV/s, the charge associated with the oxidation peak was 0.4063 mC, and for the reduction peak it was 0.3014 mC. The reduction of NiOOH to Ni(OH)<sub>2</sub> is a one electron process, and therefore there should be a Ni atom for each electron passed. There are between $2.1675\\cdot 10^{15}$ Ni atoms/cm<sup>2</sup> and $1.4537\\cdot 10^{15}$ Ni  atoms/cm<sup>2</sup> on the electrode. There was also a difference between the number of atoms calculated and the scan rate.\n",
    "\n",
    "\n",
    "<center>\n",
    "    <img src=\"./images/Figure011.png\" width=600px>\n",
    "    <br>\n",
    "    <i>\n",
    "        <b>Figure 11.</b> Cyclic voltammogram displaying the NiOOH/Ni(OH)<sub>2</sub> redox waves occuring prior to OER. The oxidation of Ni(OH)<sub>2</sub> occurs on the forward scan, and the reduction of NiOOH occurs on the reverse scan. The scan rate was 20 mV/s, and the solution was stirred vigorously. \n",
    "    </i>\n",
    "</center>"
   ]
  },
  {
   "cell_type": "markdown",
   "id": "d5088a71-ed26-4963-941c-48aab670e16d",
   "metadata": {},
   "source": [
    "#### 2.3.3 Tafel Analysis\n",
    "\n",
    "The OER kinetics were analyzed by the Tafel method. First, the potentials were corrected using the measured solution resistance for the 1.0 M KOH electrolyte, which was determined to be 2.97 ohms. Figure 12 below displays the uncorrected and corrected potentials for the 50 mV/s scan rate CV experiment.\n",
    "\n",
    "<center>\n",
    "    <img src=\"./images/Figure11.png\" width=600px>\n",
    "    <br>\n",
    "    <i>\n",
    "        <b>Figure 12.</b> Cyclic voltammogram showing the uncorrected and corrected potentials for the OER using the Fe-doped Ni(OH)<sub>2</sub> catalyst Au working electrode. The scan rate was set to 50 mV/s, and the stirring was set to a high setting.\n",
    "    </i>\n",
    "</center>\n",
    "<br>\n",
    "\n",
    "Figure 13 below shows the Tafel plot for the 50 mV/s experiment. Overpotential was calculated using 0.403 V vs NHE as the equilibrium potential for OER in a strong base. The Tafel slope was measured to be 55 mV/dec, and the exchange current density was measured as $1.393\\cdot 10^{-6}$  mA/cm<sup>2</sup>. The same analysis was also performed on the slower scan rate experiment performed at 20 mV/s, resulting in a Tafel slope of 54 mV/dec and an exchange current density of $1.091\\cdot 10^{-6}$ mA/cm<sup>2</sup>. The TOF was calculated using the current density at 300 mV overpotential and the number of active Ni atoms per unit area. Using the calculated active Ni atoms for each scan rate, the TOF was determined to be 0.126 and 0.146 s<sup>-1</sup> for the 20 mV/s and 50 mV/s experiments, respectively.  \n",
    "\n",
    "<center>\n",
    "    <img src=\"./images/Figure12.png\" width=600px>\n",
    "    <br>\n",
    "    <i>\n",
    "        <b>Figure 13.</b> Tafel plot for the OER using the Fe-doped Ni(OH)<sub>2</sub> catalyst Au working electrode. The scan rate was set to 50 mV/s, and the stirring was set to a high setting.\n",
    "    </i>\n",
    "</center>"
   ]
  },
  {
   "cell_type": "markdown",
   "id": "ed9063c1-ff76-4c44-8f48-acb7864d2a58",
   "metadata": {
    "citation-manager": {
     "citations": {
      "0m7tt": [],
      "0z7ho": [],
      "lm368": [],
      "q47r4": [],
      "tfts8": [],
      "xrq7u": []
     }
    },
    "tags": []
   },
   "source": [
    "## 4 Discussion and Conclusion\n",
    "### 4.1 HER\n",
    "##### Area Measurements\n",
    "\n",
    "The Pt-black electrode displayed a much larger area than the Pt electrode, at 0.123 cm<sup>2</sup> compared to 0.565 cm<sup>2</sup>. The geometric area of the Pt electrode is 0.0314 cm<sup>2</sup>. The roughness factor is taken as $\\rho = A_{micro}/A_{geo}$. The roughness factor of the Pt electrode would then be 3.915, and the roughness factor of the Pt-black electrode would be 17.98.  This result expected, as the Pt-black catalytic coating is not a polished metal surface, but rather a dispersion of nano-particles adhered to the electrode surface.<cite id=\"lm368\"><a href=\"#zotero%7C7738305%2FUAWXUCDV\"><sup>3</sup></a></cite> The relatively high roughness factor for the Pt electrode is due to micro scratches or other defects not removed from polishing.\n",
    "\n",
    "\n",
    "Both of the area measurement CV experiments were performed after the cell had been purged with N<sub>2</sub>, and the potentials used for the sweeps were chosen with the intention of maximizing the potentials swept while not allowing HER to occur. It is important to ensure that the cell is purged of oxygen and replaced with an inert gas because dissolved O<sub>2</sub> can cause a shift in your current from being reduced to H<sub>2</sub>O. This can therefore affect the apparent double layer capacitance, which would then affect the accuracy of the hydrogen adsorption peak integration. It is important to avoid HER in the CV scans used for area measurements because the H<sub>2</sub> produced may remain on the electrode surface, therefore affecting the measurements by affecting the contact area of the electrolyte. \n",
    "\n",
    "##### HER Kinetics\n",
    "The Tafel slope signifies the overpotential required to pass an additional order of magnitude of current. The Tafel slope for the Pt electrode shown in Figure 5 displayed a clear dependence on potential, where higher (magnitude) potentials led to a larger Tafel slope and smaller potentials led to a smaller Tafel slope. This suggests that it becomes more difficult to produce H<sub>2</sub> at higher potentials compared to smaller potentials. The literature reports two regions on the Tafel plot for HER, where the Tafel slope will change from 36–68 mV/dec to 125 mV/dec at higher overpotentials in 0.5 M H<sub>2</sub>SO<sub>4</sub>.<cite id=\"0m7tt\"><a href=\"#zotero%7C7738305%2FNCFT5K9A\"><sup>14</sup></a></cite> The measured values for the Tafel slope shown in Figure 5 were in agreement with these literature found values, although the higher overpotential Tafel slope was larger than the literature reported value, at 166 mV/dec. Literature values for the exchange current density of HER on Pt electrode surfaces range from 0.1 to 1 mA/cm<sup>2</sup>, which is in agreement with the measured value.<cite id=\"tfts8\"><a href=\"#zotero%7C7738305%2FHCQ6YXDM\"><sup>15</sup></a></cite><cite id=\"0z7ho\"><a href=\"#zotero%7C7738305%2FUXRJGRWZ\"><sup>,16</sup></a></cite> The exchange current density for the Pt electrode was determined to be between 0.41 mA/cm<sup>2</sup> and 11.07 mA/cm<sup>2</sup>, depending on where the Tafel slope was extracted. The Tafel slopes measured at lower (magnitude) overpotentials were closer to the literature Tafel slopes, and also produced exchange current densities closer to the literature reported exchange current densities. Typically, Tafel slopes are measured at overpotentials greater than ~120 mV as so the reverse-reaction current may be ignored. For this reason, the Tafel slope of 166 mV/dec and exchange current density of 11.07 mA/cm<sup>2</sup> may be taken as the most accurate set of values. \n",
    "\n",
    "Compared to the Pt electrode, the Pt-black electrode displayed a smaller Tafel slope for both regions of the Tafel plot it was measured for. The smaller Tafel slope means that less overpotential is required to pass the same amount of current. Despite the smaller Tafel slopes, Pt-black also had a smaller exchange current density on average. This could mean that the cathodic half reaction is more favorable than the anodic half reaction for the Pt-black electrode, despite an overall smaller exchange current density. The difference in the measured Tafel slopes for the Pt and Pt-black electrodes is relatively small, suggesting that there may not be a significant difference between the two. The Cu electrode displayed a significantly smaller exchange current density than both Pt-type electrodes, at 0.0666 mA/cm<sup>2</sup>. Further, the Cu electrode displayed a much larger Tafel slope of 339 mV/dec. Both of these results suggest Cu is a poor catalyst for HER. There were very few reports of Tafel slopes of Cu found in literature in the same conditions studied here so this result was not verified.<cite id=\"q47r4\"><a href=\"#zotero%7C7738305%2FTHBGWY9P\"><sup>17</sup></a></cite>\n",
    "\n",
    "\n",
    "The Cu electrode displayed the widest potential window, due to the small exchange current density and the small amount of current being passed. With the small amount of current that was passed, there was only a very small ohmic loss allowing for nearly the entire range of potentials swept to be measured in the Tafel analysis. With the Pt and Pt-black electrodes, the ohmic loss was greater due to the higher current, thereby reducing the potential range that could be analyzed. The Cu electrode may have been swept further negative while still providing a usable potential window for Tafel kinetics, as there would not be a significant amount of hydrogen produced until far greater overpotentials.\n",
    "\n",
    "### 4.2 OER\n",
    "#### TOF Measurements\n",
    "The number of active catalyst sites was measured by integration of the NiOOH/Ni(OH)<sub>2</sub> redox waves at two different scan rates, 20 mV/s and 50 mV/s. The charge measured for the peak integration showed a dependence on scan rate, where the slower 20 mV/s scan produced summed charges roughly 0.03 mC larger than the 50 mV/s scan rate. This discrepancy may be attributed to the kinetics of the redox reaction. The slower scan rate yielded more charge because the species were given more chances to overcome to kinetic barrier of the reaction. The measured charges were also much smaller than what was reported in literature for a very similar procedure,<cite id=\"xrq7u\"><a href=\"#zotero%7C7738305%2FZA3KF2R3\"><sup>9</sup></a></cite> which might be attributed to exactly how the catalyst synthesis process was carried for this project.\n",
    "\n",
    "#### OER Kinetics\n",
    "The TOF was calculated using the current density at 300 mV overpotential, and found to be between 0.126 and 0.146 s<sup>-1</sup>. The values reported in literature ranged from 0.03 s<sup>-1</sup> to 0.4 s<sup>-1</sup> depending on the method of deposition of the catalyst layer,<cite id=\"xrq7u\"><a href=\"#zotero%7C7738305%2FZA3KF2R3\"><sup>9</sup></a></cite> which is in agreement with the value measured. The Tafel slope for OER was measured as 55 mV/dec, which is larger than the value found in literature, of 37 ± 3 mV/dec.<cite id=\"xrq7u\"><a href=\"#zotero%7C7738305%2FZA3KF2R3\"><sup>9</sup></a></cite> This difference may be attributed to the method of catalyst deposition, the efficiency at which O<sub>2</sub> was evacuated from the electrode surface, or the accuracy of the reference electrode. The method for which the Tafel slope was measured from literature also different from the method used in this report, being a series of chronopotentiometry steps rather than cyclic voltammetry experiments. The Tafel slope was also observed to change with potential, where at higher potentials the Tafel slope is larger. This may be because the measurements are not being taken while the system is a steady state, and therefore any time-dependance of the catalyst activity will be confounded with apparent potential dependance of catalyst activity. This argument would be more convincing if the OER current showed more signs of hysteresis during the reverse scan. Another possibility is that at higher potentials, more O<sub>2</sub> is being produced than can be evacuated from the catalyst sites, requiring additional overpotential to pass the same amount of current with fewer accessibly catalyst sites. Lastly, the shallower Tafel slope at smaller overpotentials may be a result of current still being passed from the oxidation of Ni(OH)<sub>2</sub>, although if this were true one would not expect the same behavior on the reverse scan as is observed in Figure 13. The decrease in available catalyst sites is the most probable explanation for this behavior.  \n"
   ]
  },
  {
   "cell_type": "markdown",
   "id": "2f431bf5-a7e9-455c-b640-d95c94b18bae",
   "metadata": {
    "jp-MarkdownHeadingCollapsed": true,
    "tags": []
   },
   "source": [
    "## References\n",
    "\n",
    "\n",
    "<!-- BIBLIOGRAPHY START -->\n",
    "<div class=\"csl-bib-body\">\n",
    "</div>\n",
    "<!-- BIBLIOGRAPHY END -->\n",
    "\n"
   ]
  },
  {
   "cell_type": "markdown",
   "id": "d75250b6-74ed-43df-a5d0-6c7fc245c850",
   "metadata": {},
   "source": [
    "## Appendix A\n",
    "\n",
    "<center>\n",
    "    <i><b>Table 1. </b>Measured charges and calculated microscopic areas for various scan rates</i>\n",
    "</center>    \n",
    "    \n",
    "| Electrode | Scan Rate (mV/s) | Adsorption Charge (mC) | Microscopic Area (cm<sup>2</sup>) |\n",
    "|-----------|------------------|------------------------|----------------------------------|\n",
    "|       Pt  |       200 |  0.02582 | 0.122952 |\n",
    "|         Pt |        100 | 0.02503 | 0.119190 |\n",
    "|         Pt |         50|  0.02071 | 0.098619\n",
    "|   Pt-black  |       200 | 0.11870 | 0.565238\n",
    "|   Pt-black   |      100 | 0.12660 | 0.602857\n",
    "|   Pt-black    |      50 | 0.11020 | 0.524762\n",
    "\n",
    "<br>\n",
    "<center>\n",
    "    <i><b>Table 2. </b>Measured Tafel slopes and exchange current densities for different overpotential regions</i>\n",
    "</center> \n",
    "\n",
    "| Electrode | abs($\\eta$) Range (mV) | Tafel Slope (mV/dec) | $j_0$ (mA/cm<sup>2</sup>) |\n",
    "| --------- | -------------------- | -------------------- | -------------------------------------------- |\n",
    "| Pt-black | $\\eta$ > 100  |130 | 4.1154 |\n",
    "| Pt | $\\eta$ > 100 |       166 | 11.0744 | \n",
    "| Pt-black | 0 < $\\eta$ < 100 | 39 | 0.1098 |\n",
    "| Pt | 0 < $\\eta$ < 100 |       47 | 0.4144 | \n",
    "| Pt-black | $\\eta$ > 0 |    46 | 0.1714 |\n",
    "| Pt | $\\eta$ > 0 |          85 | 1.871 |\n",
    "| Cu | $\\eta$ > 0 | 339 | 0.0666 |"
   ]
  }
 ],
 "metadata": {
  "citation-manager": {
   "items": {
    "zotero": {
     "7738305/23QJR3YX": {
      "DOI": "10.1007/s40820-020-00469-3",
      "URL": "https://www.ncbi.nlm.nih.gov/pmc/articles/PMC7770753/",
      "abstract": "Bifunctional electrode and electrolytic cell configuration for electrochemical water splitting are reviewed.The different green energy systems powered water splitting are summarized and discussed.An outlook of future research prospects for the development of green energy system powered water splitting in practical application process is proposed., Hydrogen (H2) production is a latent feasibility of renewable clean energy. The industrial H2 production is obtained from reforming of natural gas, which consumes a large amount of nonrenewable energy and simultaneously produces greenhouse gas carbon dioxide. Electrochemical water splitting is a promising approach for the H2 production, which is sustainable and pollution-free. Therefore, developing efficient and economic technologies for electrochemical water splitting has been an important goal for researchers around the world. The utilization of green energy systems to reduce overall energy consumption is more important for H2 production. Harvesting and converting energy from the environment by different green energy systems for water splitting can efficiently decrease the external power consumption. A variety of green energy systems for efficient producing H2, such as two-electrode electrolysis of water, water splitting driven by photoelectrode devices, solar cells, thermoelectric devices, triboelectric nanogenerator, pyroelectric device or electrochemical water–gas shift device, have been developed recently. In this review, some notable progress made in the different green energy cells for water splitting is discussed in detail. We hoped this review can guide people to pay more attention to the development of green energy system to generate pollution-free H2 energy, which will realize the whole process of H2 production with low cost, pollution-free and energy sustainability conversion.",
      "accessed": {
       "date-parts": [
        [
         2022,
         11,
         6
        ]
       ]
      },
      "author": [
       {
        "family": "Li",
        "given": "Xiao"
       },
       {
        "family": "Zhao",
        "given": "Lili"
       },
       {
        "family": "Yu",
        "given": "Jiayuan"
       },
       {
        "family": "Liu",
        "given": "Xiaoyan"
       },
       {
        "family": "Zhang",
        "given": "Xiaoli"
       },
       {
        "family": "Liu",
        "given": "Hong"
       },
       {
        "family": "Zhou",
        "given": "Weijia"
       }
      ],
      "container-title": "Nano-Micro Letters",
      "id": "7738305/23QJR3YX",
      "issued": {
       "date-parts": [
        [
         2020,
         6,
         17
        ]
       ]
      },
      "journalAbbreviation": "Nanomicro Lett",
      "note": "PMID: 34138146\nPMCID: PMC7770753",
      "page": "131",
      "shortTitle": "Water Splitting",
      "system_id": "zotero|7738305/23QJR3YX",
      "title": "Water Splitting: From Electrode to Green Energy System",
      "type": "article-journal",
      "volume": "12"
     },
     "7738305/2WSTQX2W": {
      "DOI": "10.1021/acsnano.5b00520",
      "URL": "https://pubs.acs.org/doi/10.1021/acsnano.5b00520",
      "accessed": {
       "date-parts": [
        [
         2022,
         11,
         8
        ]
       ]
      },
      "author": [
       {
        "family": "Fominykh",
        "given": "Ksenia"
       },
       {
        "family": "Chernev",
        "given": "Petko"
       },
       {
        "family": "Zaharieva",
        "given": "Ivelina"
       },
       {
        "family": "Sicklinger",
        "given": "Johannes"
       },
       {
        "family": "Stefanic",
        "given": "Goran"
       },
       {
        "family": "Döblinger",
        "given": "Markus"
       },
       {
        "family": "Müller",
        "given": "Alexander"
       },
       {
        "family": "Pokharel",
        "given": "Aneil"
       },
       {
        "family": "Böcklein",
        "given": "Sebastian"
       },
       {
        "family": "Scheu",
        "given": "Christina"
       },
       {
        "family": "Bein",
        "given": "Thomas"
       },
       {
        "family": "Fattakhova-Rohlfing",
        "given": "Dina"
       }
      ],
      "container-title": "ACS Nano",
      "id": "7738305/2WSTQX2W",
      "issue": "5",
      "issued": {
       "date-parts": [
        [
         2015,
         5,
         26
        ]
       ]
      },
      "journalAbbreviation": "ACS Nano",
      "language": "en",
      "page": "5180-5188",
      "system_id": "zotero|7738305/2WSTQX2W",
      "title": "Iron-Doped Nickel Oxide Nanocrystals as Highly Efficient Electrocatalysts for Alkaline Water Splitting",
      "type": "article-journal",
      "volume": "9"
     },
     "7738305/36S6EZDF": {
      "DOI": "10.1016/j.nanoen.2020.105514",
      "URL": "https://linkinghub.elsevier.com/retrieve/pii/S2211285520310880",
      "accessed": {
       "date-parts": [
        [
         2022,
         11,
         8
        ]
       ]
      },
      "author": [
       {
        "family": "Anantharaj",
        "given": "Sengeni"
       },
       {
        "family": "Kundu",
        "given": "Subrata"
       },
       {
        "family": "Noda",
        "given": "Suguru"
       }
      ],
      "container-title": "Nano Energy",
      "id": "7738305/36S6EZDF",
      "issued": {
       "date-parts": [
        [
         "2021"
        ]
       ]
      },
      "journalAbbreviation": "Nano Energy",
      "language": "en",
      "page": "105514",
      "shortTitle": "“The Fe Effect”",
      "system_id": "zotero|7738305/36S6EZDF",
      "title": "“The Fe Effect”: A review unveiling the critical roles of Fe in enhancing OER activity of Ni and Co based catalysts",
      "type": "article-journal",
      "volume": "80"
     },
     "7738305/97TJZECE": {
      "DOI": "10.1039/a803310b",
      "URL": "http://xlink.rsc.org/?DOI=a803310b",
      "accessed": {
       "date-parts": [
        [
         2022,
         11,
         2
        ]
       ]
      },
      "author": [
       {
        "family": "Sheppard",
        "given": "Sally-Ann"
       },
       {
        "family": "Campbell",
        "given": "Sheelagh A."
       },
       {
        "family": "Smith",
        "given": "James R."
       },
       {
        "family": "Lloyd",
        "given": "Grongar W."
       },
       {
        "family": "Walsh",
        "given": "Frank C."
       },
       {
        "family": "Ralph",
        "given": "Thomas R."
       }
      ],
      "container-title": "The Analyst",
      "id": "7738305/97TJZECE",
      "issue": "10",
      "issued": {
       "date-parts": [
        [
         1998
        ]
       ]
      },
      "journalAbbreviation": "Analyst",
      "page": "1923-1929",
      "system_id": "zotero|7738305/97TJZECE",
      "title": "Electrochemical and microscopic characterisation of platinum-coated perfluorosulfonic acid (Nafion 117) materials†",
      "type": "article-journal",
      "volume": "123"
     },
     "7738305/CJTXRAXC": {
      "author": [
       {
        "family": "Murer",
        "given": "Nicolas"
       }
      ],
      "id": "7738305/CJTXRAXC",
      "issued": {
       "date-parts": [
        [
         2005
        ]
       ]
      },
      "language": "en",
      "page": "3",
      "system_id": "zotero|7738305/CJTXRAXC",
      "title": "EC-Lab Application Note #11",
      "type": "article-journal"
     },
     "7738305/FJXNNLJZ": {
      "DOI": "10.1016/j.nanoen.2019.05.013",
      "URL": "https://linkinghub.elsevier.com/retrieve/pii/S2211285519304197",
      "accessed": {
       "date-parts": [
        [
         2022,
         11,
         6
        ]
       ]
      },
      "author": [
       {
        "family": "Li",
        "given": "Xiao"
       },
       {
        "family": "Yu",
        "given": "Jiayuan"
       },
       {
        "family": "Jia",
        "given": "Jin"
       },
       {
        "family": "Wang",
        "given": "Aizhu"
       },
       {
        "family": "Zhao",
        "given": "Lili"
       },
       {
        "family": "Xiong",
        "given": "Tanli"
       },
       {
        "family": "Liu",
        "given": "Hong"
       },
       {
        "family": "Zhou",
        "given": "Weijia"
       }
      ],
      "container-title": "Nano Energy",
      "id": "7738305/FJXNNLJZ",
      "issued": {
       "date-parts": [
        [
         "2019"
        ]
       ]
      },
      "journalAbbreviation": "Nano Energy",
      "language": "en",
      "page": "127-135",
      "system_id": "zotero|7738305/FJXNNLJZ",
      "title": "Confined distribution of platinum clusters on MoO2 hexagonal nanosheets with oxygen vacancies as a high-efficiency electrocatalyst for hydrogen evolution reaction",
      "type": "article-journal",
      "volume": "62"
     },
     "7738305/JQ85JZ3M": {
      "DOI": "10.1007/s12274-014-0591-z",
      "URL": "http://link.springer.com/10.1007/s12274-014-0591-z",
      "accessed": {
       "date-parts": [
        [
         2022,
         11,
         8
        ]
       ]
      },
      "author": [
       {
        "family": "Gong",
        "given": "Ming"
       },
       {
        "family": "Dai",
        "given": "Hongjie"
       }
      ],
      "container-title": "Nano Research",
      "id": "7738305/JQ85JZ3M",
      "issue": "1",
      "issued": {
       "date-parts": [
        [
         "2015"
        ]
       ]
      },
      "journalAbbreviation": "Nano Res.",
      "language": "en",
      "page": "23-39",
      "system_id": "zotero|7738305/JQ85JZ3M",
      "title": "A mini review of NiFe-based materials as highly active oxygen evolution reaction electrocatalysts",
      "type": "article-journal",
      "volume": "8"
     },
     "7738305/NKBKB4K6": {
      "DOI": "10.1016/j.elecom.2019.01.006",
      "URL": "https://linkinghub.elsevier.com/retrieve/pii/S1388248119300062",
      "accessed": {
       "date-parts": [
        [
         2022,
         11,
         8
        ]
       ]
      },
      "author": [
       {
        "family": "Farinazzo Bergamo Dias Martins",
        "given": "Pedro"
       },
       {
        "family": "Papa Lopes",
        "given": "Pietro"
       },
       {
        "family": "Ticianelli",
        "given": "Edson A."
       },
       {
        "family": "Stamenkovic",
        "given": "Vojislav R."
       },
       {
        "family": "Markovic",
        "given": "Nenad M."
       },
       {
        "family": "Strmcnik",
        "given": "Dusan"
       }
      ],
      "container-title": "Electrochemistry Communications",
      "id": "7738305/NKBKB4K6",
      "issued": {
       "date-parts": [
        [
         "2019"
        ]
       ]
      },
      "journalAbbreviation": "Electrochemistry Communications",
      "language": "en",
      "page": "30-33",
      "shortTitle": "Hydrogen evolution reaction on copper",
      "system_id": "zotero|7738305/NKBKB4K6",
      "title": "Hydrogen evolution reaction on copper: Promoting water dissociation by tuning the surface oxophilicity",
      "type": "article-journal",
      "volume": "100"
     },
     "7738305/Q9S7B3PQ": {
      "ISBN": "9781119334057 9781119334071",
      "abstract": "\"The long-awaited revision of a classic! This defining textbook on electrochemistry takes the reader from the most basic chemical and physical principles, through fundamentals of thermodynamics, kinetics, and mass transfer, to a thorough treatment of all important experimental methods. It offers comprehensive coverage of all important topics in the field, and is renowned for its accuracy and clear presentation. The 3rd edition of this bestselling textbook has been extensively revised to reflect developments in the field over the past two decades\"--",
      "author": [
       {
        "family": "Bard",
        "given": "Allen J."
       },
       {
        "family": "Faulkner",
        "given": "Larry R."
       },
       {
        "family": "White",
        "given": "Henry S."
       }
      ],
      "call-number": "QD553",
      "edition": "Third edition",
      "event-place": "Hoboken, NJ",
      "id": "7738305/Q9S7B3PQ",
      "issued": {
       "date-parts": [
        [
         2022
        ]
       ]
      },
      "number-of-pages": "1",
      "publisher": "Wiley",
      "publisher-place": "Hoboken, NJ",
      "shortTitle": "Electrochemical methods",
      "system_id": "zotero|7738305/Q9S7B3PQ",
      "title": "Electrochemical methods: fundamentals and applications",
      "type": "book"
     },
     "7738305/UAWXUCDV": {
      "ISBN": "978-0-444-52745-5",
      "URL": "https://linkinghub.elsevier.com/retrieve/pii/B9780444527455002276",
      "accessed": {
       "date-parts": [
        [
         2022,
         11,
         8
        ]
       ]
      },
      "author": [
       {
        "family": "Ramasamy",
        "given": "R.P."
       }
      ],
      "container-title": "Encyclopedia of Electrochemical Power Sources",
      "id": "7738305/UAWXUCDV",
      "issued": {
       "date-parts": [
        [
         2009
        ]
       ]
      },
      "language": "en",
      "note": "DOI: 10.1016/B978-044452745-5.00227-6",
      "page": "787-805",
      "publisher": "Elsevier",
      "system_id": "zotero|7738305/UAWXUCDV",
      "title": "FUEL CELLS – PROTON-EXCHANGE MEMBRANE FUEL CELLS | Membrane–Electrode Assemblies",
      "type": "chapter"
     },
     "7738305/V3P5JVKP": {
      "DOI": "10.1039/C8FD00062J",
      "URL": "http://xlink.rsc.org/?DOI=C8FD00062J",
      "abstract": "We present evidence that the “third hydrogen peak” involves surface-adsorbed hydrogen on a locally “reconstructed” (110)-type surface site.\n          , \n            The “hydrogen region” of platinum is a powerful tool to structurally characterize nanostructured platinum electrodes. In recent years, the understanding of this hydrogen region has improved considerably: on Pt(111) sites, there is indeed only hydrogen adsorption, while on step sites, the hydrogen region involves the replacement of adsorbed hydrogen by adsorbed hydroxyl which interacts with co-adsorbed cations. However, the hydrogen region features an enigmatic and less well-understood “third hydrogen peak”, which develops on oxidatively roughened platinum electrodes as well as on platinum electrodes with a high (110) step density that have been subjected to a high concentration of hydrogen. In this paper, we present evidence that the peak involves surface-adsorbed hydrogen (instead of subsurface hydrogen) on a locally “reconstructed” (110)-type surface site. This site is unstable when the hydrogen is oxidatively removed. The cation sensitivity of the third hydrogen peak appears different from other step-related peaks, suggesting that the chemistry involved may still be subtly different from the other features in the hydrogen region.",
      "accessed": {
       "date-parts": [
        [
         2022,
         11,
         6
        ]
       ]
      },
      "author": [
       {
        "family": "Diaz-Morales",
        "given": "Oscar"
       },
       {
        "family": "Hersbach",
        "given": "Thomas J. P."
       },
       {
        "family": "Badan",
        "given": "Cansin"
       },
       {
        "family": "Garcia",
        "given": "Amanda C."
       },
       {
        "family": "Koper",
        "given": "Marc T. M."
       }
      ],
      "container-title": "Faraday Discussions",
      "id": "7738305/V3P5JVKP",
      "issued": {
       "date-parts": [
        [
         2018
        ]
       ]
      },
      "journalAbbreviation": "Faraday Discuss.",
      "language": "en",
      "page": "301-315",
      "system_id": "zotero|7738305/V3P5JVKP",
      "title": "Hydrogen adsorption on nano-structured platinum electrodes",
      "type": "article-journal",
      "volume": "210"
     },
     "7738305/WB238N6A": {
      "DOI": "10.1126/science.aaf1525",
      "URL": "https://www.science.org/doi/10.1126/science.aaf1525",
      "abstract": "Modulating metal oxides\n            \n              The more difficult step in fuel cells and water electrolysis is the oxygen evolution reaction. The search for earth-abundant materials to replace noble metals for this reaction often turns to oxides of three-dimensional metals such as iron. Zhang\n              et al.\n              show that the applied voltages needed to drive this reaction are reduced for iron-cobalt oxides by the addition of tungsten. The addition of tungsten favorably modulates the electronic structure of the oxyhydroxide. A key development is to keep the metals well mixed and avoid the formation of separate phases.\n            \n            \n              Science\n              , this issue p.\n              333\n            \n          , \n            The addition of tungsten to iron cobalt oxides lowers the overpotential required for the evolution of oxygen from water.\n          , \n            Earth-abundant first-row (3d) transition metal–based catalysts have been developed for the oxygen-evolution reaction (OER); however, they operate at overpotentials substantially above thermodynamic requirements. Density functional theory suggested that non-3d high-valency metals such as tungsten can modulate 3d metal oxides, providing near-optimal adsorption energies for OER intermediates. We developed a room-temperature synthesis to produce gelled oxyhydroxides materials with an atomically homogeneous metal distribution. These gelled FeCoW oxyhydroxides exhibit the lowest overpotential (191 millivolts) reported at 10 milliamperes per square centimeter in alkaline electrolyte. The catalyst shows no evidence of degradation after more than 500 hours of operation. X-ray absorption and computational studies reveal a synergistic interplay between tungsten, iron, and cobalt in producing a favorable local coordination environment and electronic structure that enhance the energetics for OER.",
      "accessed": {
       "date-parts": [
        [
         2022,
         11,
         8
        ]
       ]
      },
      "author": [
       {
        "family": "Zhang",
        "given": "Bo"
       },
       {
        "family": "Zheng",
        "given": "Xueli"
       },
       {
        "family": "Voznyy",
        "given": "Oleksandr"
       },
       {
        "family": "Comin",
        "given": "Riccardo"
       },
       {
        "family": "Bajdich",
        "given": "Michal"
       },
       {
        "family": "García-Melchor",
        "given": "Max"
       },
       {
        "family": "Han",
        "given": "Lili"
       },
       {
        "family": "Xu",
        "given": "Jixian"
       },
       {
        "family": "Liu",
        "given": "Min"
       },
       {
        "family": "Zheng",
        "given": "Lirong"
       },
       {
        "family": "García de Arquer",
        "given": "F. Pelayo"
       },
       {
        "family": "Dinh",
        "given": "Cao Thang"
       },
       {
        "family": "Fan",
        "given": "Fengjia"
       },
       {
        "family": "Yuan",
        "given": "Mingjian"
       },
       {
        "family": "Yassitepe",
        "given": "Emre"
       },
       {
        "family": "Chen",
        "given": "Ning"
       },
       {
        "family": "Regier",
        "given": "Tom"
       },
       {
        "family": "Liu",
        "given": "Pengfei"
       },
       {
        "family": "Li",
        "given": "Yuhang"
       },
       {
        "family": "De Luna",
        "given": "Phil"
       },
       {
        "family": "Janmohamed",
        "given": "Alyf"
       },
       {
        "family": "Xin",
        "given": "Huolin L."
       },
       {
        "family": "Yang",
        "given": "Huagui"
       },
       {
        "family": "Vojvodic",
        "given": "Aleksandra"
       },
       {
        "family": "Sargent",
        "given": "Edward H."
       }
      ],
      "container-title": "Science",
      "id": "7738305/WB238N6A",
      "issue": "6283",
      "issued": {
       "date-parts": [
        [
         2016,
         4,
         15
        ]
       ]
      },
      "journalAbbreviation": "Science",
      "language": "en",
      "page": "333-337",
      "system_id": "zotero|7738305/WB238N6A",
      "title": "Homogeneously dispersed multimetal oxygen-evolving catalysts",
      "type": "article-journal",
      "volume": "352"
     },
     "7738305/ZA3KF2R3": {
      "DOI": "10.1021/acs.chemmater.6b02796",
      "URL": "https://pubs.acs.org/doi/10.1021/acs.chemmater.6b02796",
      "accessed": {
       "date-parts": [
        [
         2022,
         11,
         6
        ]
       ]
      },
      "author": [
       {
        "family": "Stevens",
        "given": "Michaela Burke"
       },
       {
        "family": "Enman",
        "given": "Lisa J."
       },
       {
        "family": "Batchellor",
        "given": "Adam S."
       },
       {
        "family": "Cosby",
        "given": "Monty R."
       },
       {
        "family": "Vise",
        "given": "Ashlee E."
       },
       {
        "family": "Trang",
        "given": "Christina D. M."
       },
       {
        "family": "Boettcher",
        "given": "Shannon W."
       }
      ],
      "container-title": "Chemistry of Materials",
      "id": "7738305/ZA3KF2R3",
      "issue": "1",
      "issued": {
       "date-parts": [
        [
         2017,
         1,
         10
        ]
       ]
      },
      "journalAbbreviation": "Chem. Mater.",
      "language": "en",
      "page": "120-140",
      "system_id": "zotero|7738305/ZA3KF2R3",
      "title": "Measurement Techniques for the Study of Thin Film Heterogeneous Water Oxidation Electrocatalysts",
      "type": "article-journal",
      "volume": "29"
     }
    }
   },
   "style": "american-chemical-society.csl"
  },
  "kernelspec": {
   "display_name": "Python 3 (ipykernel)",
   "language": "python",
   "name": "python3"
  },
  "language_info": {
   "codemirror_mode": {
    "name": "ipython",
    "version": 3
   },
   "file_extension": ".py",
   "mimetype": "text/x-python",
   "name": "python",
   "nbconvert_exporter": "python",
   "pygments_lexer": "ipython3",
   "version": "3.10.8"
  },
  "toc-showcode": false,
  "toc-showmarkdowntxt": false,
  "toc-showtags": false
 },
 "nbformat": 4,
 "nbformat_minor": 5
}
